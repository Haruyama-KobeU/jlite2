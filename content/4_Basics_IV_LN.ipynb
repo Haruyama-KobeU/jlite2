{
 "cells": [
  {
   "cell_type": "markdown",
   "metadata": {},
   "source": [
    "# 制御フロー"
   ]
  },
  {
   "cell_type": "markdown",
   "metadata": {},
   "source": [
    "制御フロー（control flow）とは，コンピューターがコードを実行する順序を意味する。通常，コードセルの中では「上から下に」実行することになるが，その中でフローが条件分岐したり，ある作業を何百回・何万回も繰り返したりすることになる。ここでは条件分岐と繰り返しに注目し`Python`の使い方を説明する。"
   ]
  },
  {
   "cell_type": "markdown",
   "metadata": {
    "heading_collapsed": true
   },
   "source": [
    "## `if`文"
   ]
  },
  {
   "cell_type": "markdown",
   "metadata": {
    "heading_collapsed": true,
    "hidden": true
   },
   "source": [
    "### 説明と簡単な例"
   ]
  },
  {
   "cell_type": "markdown",
   "metadata": {
    "hidden": true
   },
   "source": [
    "* `if`文を使うと，指定した条件によって処理を複数パターンに分けることができる。\n",
    "* 条件をブール型（真偽）（`True`又は`False`）で判断しコードを実行することになる。\n",
    "\n",
    "```\n",
    "if ＜条件１＞:\n",
    "    ＜条件１が`True`の場合に実行するコード＞\n",
    "    \n",
    "elif ＜条件２＞:\n",
    "    ＜条件２が`True`の場合に実行するコード＞\n",
    "    \n",
    "elif ＜条件３＞:\n",
    "    ＜条件３が`True`の場合に実行するコード＞\n",
    "    ....\n",
    "else:\n",
    "    ＜全ての条件が`False`の場合に実行するコード＞\n",
    "```\n",
    "\n",
    "* １行目は`if`で始まり`:`で終わる。\n",
    "* `＜条件＃がTrueの場合に実行するコード＞`の行はインデント（４つの半角スペース）されている。\n",
    "* `elif`（else ifの略）の行も`:`で終わる。\n",
    "* `else`の行も`:`で終わる。\n",
    "\n",
    "例を考えよう。"
   ]
  },
  {
   "cell_type": "code",
   "execution_count": 1,
   "metadata": {
    "hidden": true
   },
   "outputs": [
    {
     "name": "stdout",
     "output_type": "stream",
     "text": [
      "条件はTrueです。\n"
     ]
    }
   ],
   "source": [
    "x = 10\n",
    "\n",
    "if x == 10:                   # 1\n",
    "    print('条件はTrueです。')    # 2\n",
    "\n",
    "else:                         # 3\n",
    "    print('条件はFalseです。')   # 4"
   ]
  },
  {
   "cell_type": "markdown",
   "metadata": {
    "heading_collapsed": true,
    "hidden": true
   },
   "source": [
    "### 複数条件"
   ]
  },
  {
   "cell_type": "markdown",
   "metadata": {
    "hidden": true
   },
   "source": [
    "次に，複数の条件がある例を考える。`change_in_gdp`をGDPの**変化**だとしよう。次の表示がされる`if`文を作成する。"
   ]
  },
  {
   "cell_type": "code",
   "execution_count": 3,
   "metadata": {
    "hidden": true
   },
   "outputs": [
    {
     "name": "stdout",
     "output_type": "stream",
     "text": [
      "GDPは増加しています。\n"
     ]
    }
   ],
   "source": [
    "# CELL PROVIDED\n",
    "\n",
    "change_in_gdp = 200  #1\n",
    "\n",
    "if change_in_gdp > 0:\n",
    "    print('GDPは増加しています。')\n",
    "\n",
    "elif change_in_gdp < 0:\n",
    "    print('GDPは減少しています。')\n",
    "\n",
    "else:\n",
    "    print('GDPは変化していません。')"
   ]
  },
  {
   "cell_type": "markdown",
   "metadata": {
    "hidden": true
   },
   "source": [
    "＜`if`文の説明＞\n",
    "* `if`が１つ目の条件, `elif`が２つ目の条件, `else`が３つ目の条件を指定している。\n",
    "* `if`, `elif`, `else` で始まる行の最後は`:`となる。\n",
    "* `if`, `elif`, `else` で始まる行には４つの半角スペースのインデントが入る\n",
    "* `print` で始まる行には８つの半角スペースのインデントが入る\n",
    "* `else`の行に`change_in_gdp==0`は不要（残りの可能性は`change_in_gdp==0`しかないため）\n",
    "* `elif`は`else if`の省略形であり，２つ目の条件を定義する。\n",
    "* `elif`は`if`と`else`の間に複数入れることが可能である。\n",
    "\n",
    "コードを実行すると，`#1`で`200`が`change_in_gdp`割り当てられているので`GDPは増加しています。`が表示されることになる。"
   ]
  },
  {
   "cell_type": "markdown",
   "metadata": {
    "heading_collapsed": true,
    "hidden": true
   },
   "source": [
    "### 関数化"
   ]
  },
  {
   "cell_type": "markdown",
   "metadata": {
    "hidden": true
   },
   "source": [
    "`if`文は関数の中で使うことも可能である。GDPに関する例を使って考えてみよう。"
   ]
  },
  {
   "cell_type": "code",
   "execution_count": 4,
   "metadata": {
    "hidden": true
   },
   "outputs": [],
   "source": [
    "def gdp_change(change_in_gdp):\n",
    "    \n",
    "    if change_in_gdp > 0:\n",
    "        print('GDPは増加しています。')\n",
    "\n",
    "    elif change_in_gdp < 0:\n",
    "        print('GDPは減少しています。')\n",
    "\n",
    "    else:\n",
    "        print('GDPは変化していません。')"
   ]
  },
  {
   "cell_type": "markdown",
   "metadata": {
    "hidden": true
   },
   "source": [
    "＜関数の説明＞\n",
    "* 引数が`change_in_gdp`\n",
    "* `return`がないので返り値はなく，単に`print()`関数で表示をするだけとなる。\n",
    "* `if`，`elif`，`else`の行は4つの半角スペースのインデントが入っている。\n",
    "* `print`の行は8つの半角スペースのインデントが入っている。"
   ]
  },
  {
   "cell_type": "code",
   "execution_count": 5,
   "metadata": {
    "hidden": true
   },
   "outputs": [
    {
     "name": "stdout",
     "output_type": "stream",
     "text": [
      "GDPは増加しています。\n"
     ]
    }
   ],
   "source": [
    "gdp_change(200)"
   ]
  },
  {
   "cell_type": "code",
   "execution_count": 6,
   "metadata": {
    "hidden": true
   },
   "outputs": [
    {
     "name": "stdout",
     "output_type": "stream",
     "text": [
      "GDPは減少しています。\n"
     ]
    }
   ],
   "source": [
    "gdp_change(-200)"
   ]
  },
  {
   "cell_type": "code",
   "execution_count": 7,
   "metadata": {
    "hidden": true
   },
   "outputs": [
    {
     "name": "stdout",
     "output_type": "stream",
     "text": [
      "GDPは変化していません。\n"
     ]
    }
   ],
   "source": [
    "gdp_change(0)"
   ]
  },
  {
   "cell_type": "markdown",
   "metadata": {
    "heading_collapsed": true,
    "hidden": true
   },
   "source": [
    "### 直接真偽値を使う"
   ]
  },
  {
   "cell_type": "markdown",
   "metadata": {
    "hidden": true
   },
   "source": [
    "条件満たされているかの判断は真偽値を使っているが，`bool()`関数を使って真偽値をできることを思い出そう。空の文字列`''`や`0`などは「空」・「無」なので`False`となるが，それら以外は`True`となる。次の例はこの特性を使った例となる。"
   ]
  },
  {
   "cell_type": "code",
   "execution_count": 8,
   "metadata": {
    "hidden": true
   },
   "outputs": [],
   "source": [
    "def truth_value(x):\n",
    "\n",
    "    if x:   # この行に着目\n",
    "        print('真偽値はTrueです。')\n",
    "\n",
    "    else:\n",
    "        print('真偽値はFalseです。')"
   ]
  },
  {
   "cell_type": "markdown",
   "metadata": {
    "hidden": true
   },
   "source": [
    "このコードで着目してほしいのは`if x:`の行である。`if`文の場合，下の左と右のコードは同じなのである。\n",
    "```\n",
    "if x:　→　if bool(x):\n",
    "```\n",
    "この解釈はどの`if`文でも成立するので覚えておこう。"
   ]
  },
  {
   "cell_type": "code",
   "execution_count": 9,
   "metadata": {
    "hidden": true
   },
   "outputs": [
    {
     "name": "stdout",
     "output_type": "stream",
     "text": [
      "真偽値はTrueです。\n"
     ]
    }
   ],
   "source": [
    "truth_value('経済学')"
   ]
  },
  {
   "cell_type": "code",
   "execution_count": 10,
   "metadata": {
    "hidden": true
   },
   "outputs": [
    {
     "name": "stdout",
     "output_type": "stream",
     "text": [
      "真偽値はTrueです。\n"
     ]
    }
   ],
   "source": [
    "truth_value('0')"
   ]
  },
  {
   "cell_type": "code",
   "execution_count": 11,
   "metadata": {
    "hidden": true
   },
   "outputs": [
    {
     "name": "stdout",
     "output_type": "stream",
     "text": [
      "真偽値はFalseです。\n"
     ]
    }
   ],
   "source": [
    "truth_value(0)"
   ]
  },
  {
   "cell_type": "markdown",
   "metadata": {
    "hidden": true
   },
   "source": [
    "真偽値を使ったもう１つの例を紹介しよう。"
   ]
  },
  {
   "cell_type": "code",
   "execution_count": 12,
   "metadata": {
    "hidden": true
   },
   "outputs": [],
   "source": [
    "# CELL PROVIDED\n",
    "\n",
    "def my_wallet(money):\n",
    "    \n",
    "    if money:   #1\n",
    "        print('なに買おうかな😄')\n",
    "    \n",
    "    else:\n",
    "        print('一文なしだよ😅')"
   ]
  },
  {
   "cell_type": "markdown",
   "metadata": {
    "hidden": true
   },
   "source": [
    "実行してみよう。"
   ]
  },
  {
   "cell_type": "code",
   "execution_count": 13,
   "metadata": {
    "hidden": true
   },
   "outputs": [
    {
     "name": "stdout",
     "output_type": "stream",
     "text": [
      "一文なしだよ😅\n"
     ]
    }
   ],
   "source": [
    "my_wallet(0)"
   ]
  },
  {
   "cell_type": "markdown",
   "metadata": {
    "heading_collapsed": true,
    "hidden": true
   },
   "source": [
    "### 数値を返す例"
   ]
  },
  {
   "cell_type": "markdown",
   "metadata": {
    "hidden": true
   },
   "source": [
    "次の`if`文を考えてみよう。\n",
    "\n",
    "$$\n",
    "y = \\left|x\\right|\n",
    "$$"
   ]
  },
  {
   "cell_type": "code",
   "execution_count": 14,
   "metadata": {
    "hidden": true
   },
   "outputs": [
    {
     "data": {
      "text/plain": [
       "10"
      ]
     },
     "execution_count": 14,
     "metadata": {},
     "output_type": "execute_result"
    }
   ],
   "source": [
    "x = -10       # 0\n",
    "\n",
    "if x >= 0:    # 1\n",
    "    y = x\n",
    "    \n",
    "else:         # 2\n",
    "    y = -x\n",
    "        \n",
    "y             # 3"
   ]
  },
  {
   "cell_type": "markdown",
   "metadata": {
    "hidden": true
   },
   "source": [
    "＜`if`文の説明＞\n",
    "* (`#1`) `x`が非負であれば，`x`が`y`に割り当てられる。\n",
    "* (`#2`) `x`が負であれば，`-x`が`y`に割り当てられる。\n",
    "\n",
    "この`if`文を関数にまとめてみよう。"
   ]
  },
  {
   "cell_type": "code",
   "execution_count": 15,
   "metadata": {
    "hidden": true
   },
   "outputs": [],
   "source": [
    "def f(x):\n",
    "    \n",
    "    if x >= 0:\n",
    "        y = x\n",
    "\n",
    "    else:\n",
    "        y = -x\n",
    "        \n",
    "    return y"
   ]
  },
  {
   "cell_type": "markdown",
   "metadata": {
    "hidden": true
   },
   "source": [
    "主な違い：\n",
    "* `x`を引数に使う。\n",
    "* 関数の戻り値を設定するために`return y`が追加されている。\n",
    "\n",
    "更に，短くするには次のように書くこともできる。"
   ]
  },
  {
   "cell_type": "code",
   "execution_count": 16,
   "metadata": {
    "hidden": true
   },
   "outputs": [],
   "source": [
    "# CELL PROVIDED\n",
    "\n",
    "def f(x):\n",
    "    \n",
    "    if x >= 0:\n",
    "        return x\n",
    "\n",
    "    else:\n",
    "        return -x"
   ]
  },
  {
   "cell_type": "markdown",
   "metadata": {
    "hidden": true
   },
   "source": [
    "違いは変数`y`を使わずに，直接結果を返している。"
   ]
  },
  {
   "cell_type": "code",
   "execution_count": 17,
   "metadata": {
    "hidden": true
   },
   "outputs": [
    {
     "data": {
      "text/plain": [
       "(10, 10, 0)"
      ]
     },
     "execution_count": 17,
     "metadata": {},
     "output_type": "execute_result"
    }
   ],
   "source": [
    "f(10), f(-10), f(0)"
   ]
  },
  {
   "cell_type": "markdown",
   "metadata": {
    "heading_collapsed": true
   },
   "source": [
    "## `While`ループ"
   ]
  },
  {
   "cell_type": "markdown",
   "metadata": {
    "heading_collapsed": true,
    "hidden": true
   },
   "source": [
    "### 説明と簡単な例"
   ]
  },
  {
   "cell_type": "markdown",
   "metadata": {
    "hidden": true
   },
   "source": [
    "* ループとは同じコードを複数回続けて実行できるように書かれたコードを指す。\n",
    "* １つのタイプは`while`ループと呼ばれ，与えられた条件が`True`の**間**はループ計算を繰り返し続け，`False`になるとループが終了する。\n",
    "* 次の書き方となる。\n",
    "```\n",
    "while ＜条件＞:                  # 1\n",
    "    ＜条件がTrueの間，実行する内容＞  # 2\n",
    "```\n",
    "\n",
    "実行される順番は次の様になる。\n",
    "1. `#1`で条件の真偽値を確認する。\n",
    "    * `False`であればループ終了。\n",
    "    * `True`であれば`#2`に進む。\n",
    "1. `#2`のコードを実行し，終わると`#1`に戻る。\n",
    "1. `#1`で条件の真偽値を確認する。\n",
    "    * `False`であればループ終了。\n",
    "    * `True`であれば`#2`に進む。\n",
    "1. `#2`のコードを実行し，終わると`#1`に戻る。\n",
    "\n",
    "`#1`で条件が`False`になる迄この実行フローが続くことになる。\n",
    "\n",
    "ここから分かることは，`#1`で`＜条件＞`が`False`になるようにコードを書かなければ無限ループに陥ることになる。\n",
    "\n",
    "\n",
    "無限ループに入ってしまった場合は，次の手順で実行を中止することができる。\n",
    "* メニューの「Kernel」をクリック　→　「Interrupt Kernel」をクリック"
   ]
  },
  {
   "cell_type": "code",
   "execution_count": 3,
   "metadata": {
    "hidden": true
   },
   "outputs": [
    {
     "name": "stdout",
     "output_type": "stream",
     "text": [
      "0\n",
      "1\n",
      "2\n"
     ]
    }
   ],
   "source": [
    "# CELL PROVIDED\n",
    "\n",
    "count = 0            #1\n",
    "\n",
    "while count < 3:     #2\n",
    "    print(count)     #3\n",
    "    count += 1       #4"
   ]
  },
  {
   "cell_type": "markdown",
   "metadata": {
    "hidden": true
   },
   "source": [
    "＜コードの説明＞\n",
    "* `#1`\n",
    "    * `count`は数字を数えるカウンターの役割を果たす。初期値は`0`。このカウンター変数の目的は`#2`で条件が`False`に状況を作ることである。\n",
    "* `#2`：条件を設定し，ループを続けるか終わらせるかを判断する。\n",
    "* `#3`〜`#4`：条件が`True`の場合に実行するコード\n",
    "    * `#4`：カウンター変数の値を変更する。この目的は`#2`で条件が`False`に状況を作ることである。\n",
    "* 1回目のループ\n",
    "    * `#2`：`count`の値は`0`なので`count<3`は`True`を返す。条件が満たされたので`#3`に進む。\n",
    "    * `#3`：`print()`関数を使い変数`count`の値を表示する。\n",
    "    * `#4`：`count`は`1`増加する。この時点で`count=1`にアップデートされる。\n",
    "* 2回目のループ\n",
    "    * `#2`：`count`の値は`1`なので`count<3`は`True`を返す。条件が満たされたので`#3`に進む。\n",
    "    * `#3`：`print()`関数を使い変数`count`の値を表示する。\n",
    "    * `#4`：`count`は`1`増加し，この時点で`count=2`にアップデートされる。\n",
    "* 3回目のループ\n",
    "    * `#2`：`count`の値は`2`なので`count<3`は`True`を返す。条件が満たされたので`#3`に進む。\n",
    "    * `#3`：`print()`関数を使い変数`count`の値を表示する。\n",
    "    * `#4`：`count`は`1`増加し，この時点で`count=3`にアップデートされる。\n",
    "* 4回目のループ\n",
    "    * `#2`：`count`の値は`3`なので`count<3`は`False`を返す。条件が満たされないのでループは終了となる。\n",
    "\n",
    "この例で分かることは，4行目の`count+=1`がなければ`count`の値は`0`のままなため無限ループが発生することになる。"
   ]
  },
  {
   "cell_type": "markdown",
   "metadata": {
    "hidden": true
   },
   "source": [
    "`if`文に`else`があったが，`while`ループでも使うことができる。上の例に使ってみよう。"
   ]
  },
  {
   "cell_type": "code",
   "execution_count": 7,
   "metadata": {
    "hidden": true
   },
   "outputs": [
    {
     "name": "stdout",
     "output_type": "stream",
     "text": [
      "0\n",
      "1\n",
      "2\n",
      "ループは無事終わったよ🥳\n"
     ]
    }
   ],
   "source": [
    "count = 0\n",
    "\n",
    "while count < 3:  #1\n",
    "    print(count)\n",
    "    count += 1\n",
    "    \n",
    "else:             #2\n",
    "    print('ループは無事終わったよ🥳')"
   ]
  },
  {
   "cell_type": "markdown",
   "metadata": {
    "hidden": true
   },
   "source": [
    "4回目のループの初めに`count<3`は`False`を返したので，`else`に進みメッセージを表示している。このコードを見ると，`if`文と構造が非常に似ていることが分かる。\n",
    "* `#1`：条件の真偽値を確認する。`True`であれば，続くコードを実行する。\n",
    "* `#2`：条件が`False`の場合に実行する。"
   ]
  },
  {
   "cell_type": "markdown",
   "metadata": {
    "heading_collapsed": true,
    "hidden": true
   },
   "source": [
    "### 壁からの距離"
   ]
  },
  {
   "cell_type": "markdown",
   "metadata": {
    "hidden": true
   },
   "source": [
    "壁から１メートル離れて立ち，毎回壁までの半分の距離を進むとしよう。壁までの距離を変数`distance`で表すと，初期値は`1`となる。またループをストップする距離を`0.001`（1mm）とする。`while`ループを書いて距離の推移を表示してみよう。"
   ]
  },
  {
   "cell_type": "code",
   "execution_count": 4,
   "metadata": {
    "hidden": true
   },
   "outputs": [
    {
     "name": "stdout",
     "output_type": "stream",
     "text": [
      "1\n",
      "0.5\n",
      "0.25\n",
      "0.125\n",
      "0.0625\n",
      "0.03125\n",
      "0.015625\n",
      "0.0078125\n",
      "0.00390625\n",
      "0.001953125\n",
      "残りの距離は0.0009765625です。\n"
     ]
    }
   ],
   "source": [
    "distance = 1                   #1\n",
    "\n",
    "while distance > 0.001:        #2\n",
    "    \n",
    "    print(distance)            #3\n",
    "    distance -= distance/2     #4\n",
    "\n",
    "else:\n",
    "    print(f'残りの距離は{distance}です。')  #5"
   ]
  },
  {
   "cell_type": "markdown",
   "metadata": {
    "hidden": true
   },
   "source": [
    "＜コードの説明＞\n",
    "* 1行目\n",
    "    * `distance`はカウンターの役割を果たす。初期値は`1`。\n",
    "* 2行目\n",
    "    * `distance>0.001`が条件であり，この条件が`False`，即ち，`distance<=0.001`になる手前までループが続く。\n",
    "* 1回目のループ\n",
    "    * 2行目：`distance`の値は`1`なので`distance>0.001`は`True`を返す。条件が満たされたのでループの内容を実行する。\n",
    "    * 3行目：`print()`関数を使い変数`distance`の値を表示する。\n",
    "    * 4行目：`distance`は`0.5`に減少し，この時点で`distance=0.5`にアップデートされる。\n",
    "* 2回目のループ\n",
    "    * 2行目：`distance`の値は`0.5`なので`distance>0.001`は`True`を返す。条件が満たされたのでループの内容を実行する。\n",
    "    * 3行目：`print()`関数を使い変数`distance`の値を表示する。\n",
    "    * 4行目：`distance`は`0.25`に減少し，この時点で`distance=0.25`にアップデートされる。\n",
    "* 3回目以降のループ\n",
    "    * 同様の計算が行われ，`distance<=0.001`が成立するとループは終了する。\n",
    "    * ループ終了後に`#5`が実行される。"
   ]
  },
  {
   "cell_type": "markdown",
   "metadata": {
    "hidden": true
   },
   "source": [
    "上の`while`ループは何回ループ計算をしたかは分からない。次のコードはそれを確認するために変数`counter`を追加している。"
   ]
  },
  {
   "cell_type": "code",
   "execution_count": 1,
   "metadata": {
    "hidden": true
   },
   "outputs": [
    {
     "name": "stdout",
     "output_type": "stream",
     "text": [
      "残りの距離は5.714936956411375e-101です。\n",
      "333回ループ計算しました🚀\n"
     ]
    }
   ],
   "source": [
    "# CELL PROVIDED\n",
    "\n",
    "distance = 1\n",
    "counter = 0    # 新たに挿入\n",
    "\n",
    "while distance > 1e-100:\n",
    "#     print(distance)\n",
    "    distance -= distance/2\n",
    "    counter += 1    # 新たに挿入\n",
    "    \n",
    "else:\n",
    "    print(f'残りの距離は{distance}です。')\n",
    "    print(f'{counter}回ループ計算しました🚀')    # 新たに挿入"
   ]
  },
  {
   "cell_type": "markdown",
   "metadata": {
    "hidden": true
   },
   "source": [
    "ここで`1e-100`は$10^{-100}$である。\n",
    "\n",
    "科学的表記（scientific notation）は次のような書き方となる。\n",
    "* `1.5e0` = $1.5$\n",
    "* `1.5e10` = $1.5\\times 10^{10}$\n",
    "* `-8e100` = $-8\\times 10^{100}$\n",
    "* `1e-100` = $10^{-100}$\n",
    "* `-5.2e-10` = $-5.2\\times 10^{-10}$"
   ]
  },
  {
   "cell_type": "markdown",
   "metadata": {
    "heading_collapsed": true,
    "hidden": true
   },
   "source": [
    "### `if`文と`break`"
   ]
  },
  {
   "cell_type": "markdown",
   "metadata": {
    "hidden": true
   },
   "source": [
    "上の例から分かることは\n",
    "```\n",
    "while true:\n",
    "    ＜実行コード＞\n",
    "```\n",
    "と書くと無限ループになってしまうということである。一方，この書き方でもループを停止させる方法がある。それが`if`文と`break`（ループを中断するコード）を組み合わせる方法である。例を考えよう。"
   ]
  },
  {
   "cell_type": "code",
   "execution_count": 24,
   "metadata": {
    "hidden": true
   },
   "outputs": [
    {
     "name": "stdout",
     "output_type": "stream",
     "text": [
      "0\n",
      "1\n",
      "2\n"
     ]
    }
   ],
   "source": [
    "count = 0          #1\n",
    "\n",
    "while True:        #2\n",
    "    \n",
    "    print(count)   #3\n",
    "    count += 1     #4\n",
    "\n",
    "    if count > 2:  #5\n",
    "        break      #6"
   ]
  },
  {
   "cell_type": "markdown",
   "metadata": {
    "hidden": true
   },
   "source": [
    "＜`while`ループの説明＞\n",
    "* `#1`：カウンター変数の初期化（`0`に設定する）\n",
    "* `#2`：条件は`True`なので，必ず`#3`以下のコードを実行する。\n",
    "* `#3`：`count`を表示する。\n",
    "* `#4`：`count`の値に`1`を加える。\n",
    "* `#5`：\n",
    "    * `count>2`が`False`の場合は`#2`に戻る。\n",
    "    * `count>2`が`True`の場合は`#6`に進む。\n",
    "* `#6`：`break`を実行しループは終了となる。"
   ]
  },
  {
   "cell_type": "markdown",
   "metadata": {
    "hidden": true
   },
   "source": [
    "＜`while`ループの説明＞\n",
    "* `#1`：条件は`True`なので，必ず`#2`に進む。\n",
    "* `#2`：`count`の値に`1`を加える。\n",
    "* `#3`：\n",
    "    * `count==3`が`False`の場合，`#5`に進む。\n",
    "    * `count==3`が`True`の場合，`#4`に進む。\n",
    "* `#4`：`continue`が実行されると，`#1`に戻る。即ち，`#5`以下は飛ばされる。\n",
    "* `#5`：`cont`の値を表示する。\n",
    "* `#6`：\n",
    "    * `count>4`が`False`の場合は`#2`に戻る。\n",
    "    * `count>4`が`True`の場合は`#7`に進む。\n",
    "* `#7`：\n",
    "    * `break`を実行しループを終了する。\n",
    "\n",
    "`continue`と`break`それぞれに`if`文が必要となる。"
   ]
  },
  {
   "cell_type": "markdown",
   "metadata": {
    "heading_collapsed": true
   },
   "source": [
    "## `for`ループ"
   ]
  },
  {
   "cell_type": "markdown",
   "metadata": {
    "heading_collapsed": true,
    "hidden": true
   },
   "source": [
    "### 説明"
   ]
  },
  {
   "cell_type": "markdown",
   "metadata": {
    "hidden": true
   },
   "source": [
    "`for`ループは，指定した回数だけ処理を繰り返す計算手続きである。次のような書き方となる。\n",
    "\n",
    "```\n",
    "for ＜イタラブルの要素を割り当てる変数＞ in ＜イタラブル＞:\n",
    "    ＜毎回実行したい内容１＞\n",
    "```\n",
    "\n",
    "* 1行目\n",
    "    * `＜イタラブル＞`（iterable）とはリストやタプルのように要素を１つずつ返すことができる反復可能なデータ型（オブジェクト）を指す。文字列や後に説明する`Numpy`の`array`も含まれる。    \n",
    "    * `＜イタラブルの要素を割り当てる変数＞`とはループを１回実行する際に`＜イタラブル＞`の要素の値を割り当てる変数のこと。よく`i`や`j`などが使われ，再割り当てされても問題がない変数名を使おう。\n",
    "    * `for`で始まり`:`で終わり，`＜イタラブル＞`の前に`in`が入る。\n",
    "* 2行目以降\n",
    "    * 慣例では4つの半角スペースのインデント後に実行したいコードを書く。\n",
    "\n",
    "```{note}\n",
    "`for`ループでは無限ループは発生しない。リストなどのイタラブルの最後の要素が使われると，自動でループが終了する仕様となっている。\n",
    "```\n",
    "\n",
    "以下では例を使って説明しよう。"
   ]
  },
  {
   "cell_type": "markdown",
   "metadata": {
    "heading_collapsed": true,
    "hidden": true
   },
   "source": [
    "### `print()`を使う例"
   ]
  },
  {
   "cell_type": "markdown",
   "metadata": {
    "hidden": true
   },
   "source": [
    "次のリストにはGDPの構成要素が並んでいる。"
   ]
  },
  {
   "cell_type": "code",
   "execution_count": 26,
   "metadata": {
    "hidden": true
   },
   "outputs": [],
   "source": [
    "# CELL PROVIDED\n",
    "\n",
    "gdp_components = ['消費', '投資', '政府支出', '純輸出']"
   ]
  },
  {
   "cell_type": "markdown",
   "metadata": {
    "hidden": true
   },
   "source": [
    "このリストにある文字列を表示したいとしよう。"
   ]
  },
  {
   "cell_type": "code",
   "execution_count": 27,
   "metadata": {
    "hidden": true
   },
   "outputs": [
    {
     "name": "stdout",
     "output_type": "stream",
     "text": [
      "消費\n",
      "投資\n",
      "政府支出\n",
      "純輸出\n"
     ]
    }
   ],
   "source": [
    "for i in gdp_components:\n",
    "    print(i)"
   ]
  },
  {
   "cell_type": "markdown",
   "metadata": {
    "hidden": true
   },
   "source": [
    "＜コードの説明＞\n",
    "* １回目のループ\n",
    "    * 1行目で`gdp_components`の0番目の要素`消費`を`i`に割り当てる。\n",
    "    * 2行目で`print()`関数を使い変数`i`の値を表示する。\n",
    "* ２回目のループ\n",
    "    * 1行目で`gdp_components`の1番目の要素`投資`を`i`に割り当てる。\n",
    "    * 2行目で`print()`関数を使い変数`i`の値を表示する。\n",
    "* ３回目のループ\n",
    "    * 1行目で`gdp_components`の2番目の要素`政府支出`を`i`に割り当てる。\n",
    "    * 2行目で`print()`関数を使い変数`i`の値を表示する。\n",
    "* ４回目のループ\n",
    "    * 1行目で`gdp_components`の最後の要素`純輸出`を`i`に割り当てる。\n",
    "    * 2行目で`print()`関数を使い変数`i`の値を表示する。\n",
    "\n",
    "この例では`gdp_components`の要素の数だけループが行われる。"
   ]
  },
  {
   "cell_type": "markdown",
   "metadata": {
    "heading_collapsed": true,
    "hidden": true
   },
   "source": [
    "### `.append()`を使う例"
   ]
  },
  {
   "cell_type": "markdown",
   "metadata": {
    "hidden": true
   },
   "source": [
    "リストにはメソッド`.append()`が実装されており，これを使うとリストに値を追加することができる。`.append()`と`for`ループを使い，空のリストに値を追加し新たなリストを作成する方法を紹介する。まず元になるリストを作成しよう。"
   ]
  },
  {
   "cell_type": "code",
   "execution_count": 28,
   "metadata": {
    "hidden": true
   },
   "outputs": [],
   "source": [
    "# CELL PROVIDED\n",
    "\n",
    "var_list = [1,2,3,4,5]"
   ]
  },
  {
   "cell_type": "markdown",
   "metadata": {
    "hidden": true
   },
   "source": [
    "以下では，`var_list`のそれぞれの要素の10倍からなるリストを新たに作成する。"
   ]
  },
  {
   "cell_type": "code",
   "execution_count": 29,
   "metadata": {
    "hidden": true
   },
   "outputs": [
    {
     "data": {
      "text/plain": [
       "[10, 20, 30, 40, 50]"
      ]
     },
     "execution_count": 29,
     "metadata": {},
     "output_type": "execute_result"
    }
   ],
   "source": [
    "my_list = []              # 1\n",
    "\n",
    "for i in var_list:        # 2\n",
    "    x = 10*i              # 3\n",
    "    my_list.append(x)     # 4\n",
    "\n",
    "my_list                   # 5"
   ]
  },
  {
   "cell_type": "markdown",
   "metadata": {
    "hidden": true
   },
   "source": [
    "＜コードの説明＞\n",
    "\n",
    "1. 空のリストの作成（`my_list`に10倍にした数字を格納する）\n",
    "2. ここから`for`ループの始まり。`i`はリスト`[1,2,3,4,5]`の要素を割り当てる変数。\n",
    "    * １回目のループでは`i`に`1`を割り当てる。\n",
    "    * ２回目のループでは`i`に`2`を割り当てる。\n",
    "    * ３回目のループでは`i`に`3`を割り当てる。\n",
    "    * ４回目のループでは`i`に`4`を割り当てる。\n",
    "    * ５回目のループでは`i`に`5`を割り当てる。\n",
    "3. `10*i`を計算し`x`に割り当てる。\n",
    "1. `.append()`を使い`x`の値を`my_list`に追加する。\n",
    "1. `my_list`を表示する。"
   ]
  },
  {
   "cell_type": "markdown",
   "metadata": {
    "heading_collapsed": true,
    "hidden": true
   },
   "source": [
    "### 消費関数（練習問題）"
   ]
  },
  {
   "cell_type": "markdown",
   "metadata": {
    "hidden": true
   },
   "source": [
    "`for`ループを使い，所得によって消費がどのように変化するかを考えてみよう。まず`y`を所得として消費関数を次のように仮定する。\n",
    "```\n",
    "消費 = 100 + 0.7 * y\n",
    "```\n",
    "ここで\n",
    "* `100`：自発的消費（autonomous consumption）\n",
    "    * 可処分所得がゼロであっても発生する消費支出\n",
    "* `0.7`：限界消費性向（marginal propensity to consume）\n",
    "    * 可処分所得が`1`単位増加した場合に，どれだけ消費が増えるかを示す。例えば，月給が`10,000`円増えたとすると，その場合，`7000`円を消費に支出することを意味する。\n",
    "\n",
    "所得は次のリストで与えられるとする。"
   ]
  },
  {
   "cell_type": "code",
   "execution_count": 30,
   "metadata": {
    "hidden": true
   },
   "outputs": [],
   "source": [
    "# CELL PROVIDED\n",
    "\n",
    "income_list = [1000, 1100, 1500, 2000, 2300, 3000] "
   ]
  },
  {
   "cell_type": "code",
   "execution_count": 31,
   "metadata": {
    "hidden": true
   },
   "outputs": [
    {
     "data": {
      "text/plain": [
       "[800.0, 870.0, 1150.0, 1500.0, 1710.0, 2200.0]"
      ]
     },
     "execution_count": 31,
     "metadata": {},
     "output_type": "execute_result"
    }
   ],
   "source": [
    "c_list = []               # 1\n",
    "\n",
    "for y in income_list:     # 2\n",
    "    con = 100 + 0.7*y     # 3\n",
    "    c_list.append(con)    # 4\n",
    "\n",
    "c_list                    # 5"
   ]
  },
  {
   "cell_type": "markdown",
   "metadata": {
    "hidden": true
   },
   "source": [
    "＜コードの説明＞\n",
    "\n",
    "* `#1`：空のリストの作成（消費の値を格納する）\n",
    "* `#2`： ここから`for`ループの始まり。`y`はリスト`income_list`の要素を割り当てる変数。\n",
    "    * １回目のループでは`y`に`1000`を割り当てる。\n",
    "    * ２回目のループでは`y`に`1100`を割り当てる。\n",
    "    * ３回目のループでは`y`に`1500`を割り当てる。\n",
    "    * ４回目のループでは`y`に`2000`を割り当てる。\n",
    "    * ５回目のループでは`y`に`2300`を割り当てる。\n",
    "    * ６回目のループでは`y`に`3000`を割り当てる。\n",
    "* `#3`：消費を計算し`con`に割り当てる。\n",
    "* `#4`：`.append()`を使い`con`の値を`c_list`に追加する。\n",
    "* `#5`：`c_list`を表示する。"
   ]
  },
  {
   "cell_type": "markdown",
   "metadata": {
    "heading_collapsed": true,
    "hidden": true
   },
   "source": [
    "### 将来価値の時系列（練習問題）"
   ]
  },
  {
   "cell_type": "markdown",
   "metadata": {
    "hidden": true
   },
   "source": [
    "元本`x0`万円を投資すると実質年率`r`％の利息を得る金融商品を考えよう。`t`年間の将来価値（期首の値）をリストで示す関数を作成する。"
   ]
  },
  {
   "cell_type": "code",
   "execution_count": 34,
   "metadata": {
    "hidden": true
   },
   "outputs": [],
   "source": [
    "def calculate_futre_value(x0, r, t):  #1\n",
    "    \n",
    "    x = x0                            #2\n",
    "    \n",
    "    value_list = [x]                  #3\n",
    "    \n",
    "    for _ in range(t):                #4\n",
    "        x = x*(1+r)                   #5\n",
    "        value_list.append(x)          #6\n",
    "    \n",
    "    return value_list                 #7"
   ]
  },
  {
   "cell_type": "markdown",
   "metadata": {
    "hidden": true
   },
   "source": [
    "＜コードの説明＞\n",
    "* `#1`：引数\n",
    "    * `x0`は元本，`r`実質利子率，`t`投資期間\n",
    "* `#2`：`x`が`for`ループでのアップデート用の変数として使われる。初期値として元本`x0`を設定する。\n",
    "* `#3`：`value_list`に将来価値を追加して目的のリストを作成する。初期値の値である元本`x`がリストの0番目の要素として入っている。\n",
    "* `#4`：`range(t)`を使って`0`から`t-1`までの整数を準備する。`_`は`0`から`t-1`までの値を割り当てるだけで他の役割はない。\n",
    "* `#5`：右辺の`x`は今期の価値であり，来季の価値は`x*(1+r)`になる。それを左辺の`x`に割り当てる。その時点で`x`がアップデートされる。\n",
    "* `#6`：`x`の値を`value_list`に追加する。\n",
    "* `#7`：戻り値として`value_list`を設定する。"
   ]
  },
  {
   "cell_type": "markdown",
   "metadata": {
    "hidden": true
   },
   "source": [
    "次の値を使って将来価値を計算してみよう。\n",
    "* 元本：`x0=100`\n",
    "* 実質利子率：`r=0.02`\n",
    "* 期間：`t=5`"
   ]
  },
  {
   "cell_type": "code",
   "execution_count": 35,
   "metadata": {
    "hidden": true
   },
   "outputs": [
    {
     "data": {
      "text/plain": [
       "[100, 102.0, 104.04, 106.1208, 108.243216, 110.40808032000001]"
      ]
     },
     "execution_count": 35,
     "metadata": {},
     "output_type": "execute_result"
    }
   ],
   "source": [
    "values = calculate_futre_value(100, 0.02, 5)\n",
    "values"
   ]
  },
  {
   "cell_type": "markdown",
   "metadata": {
    "hidden": true
   },
   "source": [
    "このリストには初期値の`100`と`1`年後から`5`年後までの値が含まれている。"
   ]
  },
  {
   "cell_type": "markdown",
   "metadata": {
    "heading_collapsed": true
   },
   "source": [
    "## 内包表記"
   ]
  },
  {
   "cell_type": "markdown",
   "metadata": {
    "hidden": true
   },
   "source": [
    "内包表記とは`for`ループの考えを使い、リストや辞書などを簡単に１行で生成する方法である。リストの場合、次のような書き方となる。\n",
    "```\n",
    "[＜実行したい内容＞ for i in ＜イタラブル＞]\n",
    "```\n",
    "\n",
    "* `for i in ＜イタラブル＞`の箇所は`for`ループの１行目と同じとなる。\n",
    "    * `＜イタラブル＞`はリストやタプルなどを指す。\n",
    "    * `i`は`＜イタラブル＞`の要素を割り当てる変数。\n",
    "* `＜実行したい内容＞`の箇所でループで実行したいコードを書く。\n",
    "    \n",
    "`＜イタラブル＞`の例として`range(5)`を考えよう。まず`for`ループを使って、それぞれの要素を２乗にしたリストを生成するとしよう。"
   ]
  },
  {
   "cell_type": "code",
   "execution_count": 46,
   "metadata": {
    "hidden": true
   },
   "outputs": [
    {
     "data": {
      "text/plain": [
       "[0, 1, 4, 9, 16]"
      ]
     },
     "execution_count": 46,
     "metadata": {},
     "output_type": "execute_result"
    }
   ],
   "source": [
    "lst = []\n",
    "\n",
    "for i in range(5):\n",
    "    lst.append(i**2)\n",
    "\n",
    "lst"
   ]
  },
  {
   "cell_type": "markdown",
   "metadata": {
    "hidden": true
   },
   "source": [
    "`for`ループを使うと３行のコードとなるが、内包表記を使うと１行で済む。"
   ]
  },
  {
   "cell_type": "code",
   "execution_count": 47,
   "metadata": {
    "hidden": true
   },
   "outputs": [
    {
     "data": {
      "text/plain": [
       "[0, 1, 4, 9, 16]"
      ]
     },
     "execution_count": 47,
     "metadata": {},
     "output_type": "execute_result"
    }
   ],
   "source": [
    "[i**2 for i in range(5)]"
   ]
  },
  {
   "cell_type": "markdown",
   "metadata": {
    "hidden": true
   },
   "source": [
    "次のように並べると`for`ループと内包表記の関係がより分かりやすくなるだろう。\n",
    "```\n",
    "for i in range(5):\n",
    "    lst.append(i**2)\n",
    "\n",
    "[i**2\n",
    "for i in range(5)]\n",
    "```"
   ]
  },
  {
   "cell_type": "markdown",
   "metadata": {
    "hidden": true
   },
   "source": [
    "次の例として`lst`の要素を全て文字列に変換してみよう。"
   ]
  },
  {
   "cell_type": "code",
   "execution_count": 48,
   "metadata": {
    "hidden": true
   },
   "outputs": [
    {
     "data": {
      "text/plain": [
       "['0', '1', '4', '9', '16']"
      ]
     },
     "execution_count": 48,
     "metadata": {},
     "output_type": "execute_result"
    }
   ],
   "source": [
    "[str(i) for i in lst]"
   ]
  },
  {
   "cell_type": "markdown",
   "metadata": {
    "hidden": true
   },
   "source": [
    "上のコードの`str()`は組込み関数だが，`def`を使って作成した自前の関数を使うことも可能である。試してみよう。"
   ]
  },
  {
   "cell_type": "markdown",
   "metadata": {
    "hidden": true
   },
   "source": [
    "また内包表記にも`if`文を追加することも可能である。例えば，`1`から`10`までの整数で`5`以下であれば２乗し，それ以外は`0`にするとしよう。"
   ]
  },
  {
   "cell_type": "code",
   "execution_count": 49,
   "metadata": {
    "hidden": true
   },
   "outputs": [
    {
     "data": {
      "text/plain": [
       "[1, 4, 9, 16, 25, 0, 0, 0, 0, 0]"
      ]
     },
     "execution_count": 49,
     "metadata": {},
     "output_type": "execute_result"
    }
   ],
   "source": [
    "[x**2 if x<=5 else 0 for x in range(1,10+1)]"
   ]
  },
  {
   "cell_type": "markdown",
   "metadata": {
    "hidden": true
   },
   "source": [
    "しかし複雑になると可読性が落ちるので注意しよう。"
   ]
  },
  {
   "cell_type": "markdown",
   "metadata": {
    "hidden": true
   },
   "source": [
    "````{warning}\n",
    "上の例で，`x<=5`の場合は２乗し，他はリストに含めないとしよう。その場合，`if x<=5`は最後に来ることになる。\n",
    "```\n",
    "[x**2 for x in range(1,10+1) if x<=5]\n",
    "```\n",
    "また次の２つの場合はエラーとなるので注意しよう。\n",
    "```\n",
    "[x**2 if x<=5 for x in range(1,10+1)]\n",
    "```\n",
    "```\n",
    "[x**2 for x in range(1,10+1) if x<=5 else 0]\n",
    "```\n",
    "````"
   ]
  }
 ],
 "metadata": {
  "celltoolbar": "Tags",
  "kernelspec": {
   "display_name": "Python 3 (ipykernel)",
   "language": "python",
   "name": "python3"
  },
  "language_info": {
   "codemirror_mode": {
    "name": "ipython",
    "version": 3
   },
   "file_extension": ".py",
   "mimetype": "text/x-python",
   "name": "python",
   "nbconvert_exporter": "python",
   "pygments_lexer": "ipython3",
   "version": "3.10.8"
  },
  "vscode": {
   "interpreter": {
    "hash": "7638eee3e7b130da5496a984d6d52bfbc9bf510a87a483ea7c2368031c9591e0"
   }
  }
 },
 "nbformat": 4,
 "nbformat_minor": 4
}
